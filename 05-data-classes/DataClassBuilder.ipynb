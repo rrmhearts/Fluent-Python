{
 "cells": [
  {
   "cell_type": "code",
   "execution_count": 13,
   "metadata": {},
   "outputs": [
    {
     "name": "stdout",
     "output_type": "stream",
     "text": [
      "{'a': <class 'int'>, 'b': <class 'float'>}\n",
      "DemoNTClass(a, b)\n",
      "DemoNTClass(a=8, b=1.1)\n",
      "spam\n"
     ]
    }
   ],
   "source": [
    "from meaning.demo_nt import DemoNTClass\n",
    "print(DemoNTClass.__annotations__)\n",
    "print(DemoNTClass.__doc__)\n",
    "nt = DemoNTClass(8)\n",
    "print(nt)\n",
    "print(nt.c)\n"
   ]
  },
  {
   "cell_type": "markdown",
   "metadata": {},
   "source": [
    "Trying to assign values gives **AttributeError** exceptions with different error messages"
   ]
  },
  {
   "cell_type": "code",
   "execution_count": 14,
   "metadata": {},
   "outputs": [
    {
     "ename": "AttributeError",
     "evalue": "can't set attribute",
     "output_type": "error",
     "traceback": [
      "\u001b[1;31m---------------------------------------------------------------------------\u001b[0m",
      "\u001b[1;31mAttributeError\u001b[0m                            Traceback (most recent call last)",
      "\u001b[1;32mc:\\Users\\Admin\\Documents\\GitHub\\Fluent-Python\\05-data-classes\\DataClassBuilder.ipynb Cell 2'\u001b[0m in \u001b[0;36m<cell line: 1>\u001b[1;34m()\u001b[0m\n\u001b[1;32m----> <a href='vscode-notebook-cell:/c%3A/Users/Admin/Documents/GitHub/Fluent-Python/05-data-classes/DataClassBuilder.ipynb#ch0000001?line=0'>1</a>\u001b[0m nt\u001b[39m.\u001b[39ma \u001b[39m=\u001b[39m \u001b[39m\"\u001b[39m\u001b[39mnew\u001b[39m\u001b[39m\"\u001b[39m\n",
      "\u001b[1;31mAttributeError\u001b[0m: can't set attribute"
     ]
    }
   ],
   "source": [
    "nt.a = \"new\""
   ]
  },
  {
   "cell_type": "code",
   "execution_count": 17,
   "metadata": {},
   "outputs": [
    {
     "ename": "AttributeError",
     "evalue": "'DemoNTClass' object attribute 'c' is read-only",
     "output_type": "error",
     "traceback": [
      "\u001b[1;31m---------------------------------------------------------------------------\u001b[0m",
      "\u001b[1;31mAttributeError\u001b[0m                            Traceback (most recent call last)",
      "\u001b[1;32mc:\\Users\\Admin\\Documents\\GitHub\\Fluent-Python\\05-data-classes\\DataClassBuilder.ipynb Cell 3'\u001b[0m in \u001b[0;36m<cell line: 1>\u001b[1;34m()\u001b[0m\n\u001b[1;32m----> <a href='vscode-notebook-cell:/c%3A/Users/Admin/Documents/GitHub/Fluent-Python/05-data-classes/DataClassBuilder.ipynb#ch0000002?line=0'>1</a>\u001b[0m nt\u001b[39m.\u001b[39mc \u001b[39m=\u001b[39m \u001b[39m\"\u001b[39m\u001b[39mnew\u001b[39m\u001b[39m\"\u001b[39m\n",
      "\u001b[1;31mAttributeError\u001b[0m: 'DemoNTClass' object attribute 'c' is read-only"
     ]
    }
   ],
   "source": [
    "nt.c = \"new\""
   ]
  },
  {
   "cell_type": "code",
   "execution_count": 4,
   "metadata": {},
   "outputs": [
    {
     "data": {
      "text/plain": [
       "Dogger(name='Lucky', id=42, color='brown', speed=12)"
      ]
     },
     "execution_count": 4,
     "metadata": {},
     "output_type": "execute_result"
    }
   ],
   "source": [
    "from dataclasses import dataclass\n",
    "\n",
    "@dataclass\n",
    "class Dogger:\n",
    "    name: str\n",
    "    id: str\n",
    "    color: str = \"brown\"\n",
    "    speed: float = 12 # must be initialized\n",
    "\n",
    "lucky = Dogger(\"Lucky\", 42)\n",
    "lucky\n"
   ]
  },
  {
   "cell_type": "code",
   "execution_count": 32,
   "metadata": {},
   "outputs": [
    {
     "name": "stdout",
     "output_type": "stream",
     "text": [
      "ClubMember(name='bob', guests=['guest']) {'name': 'bob', 'guests': ['guest'], 'athlete': True}\n",
      "Instance attrs: {'name', 'guests'}\n",
      "Class attrs: ['athlete', 'class_var', 'all_handles']\n",
      "Athlete in ClubMember?? True\n"
     ]
    }
   ],
   "source": [
    "from dataclasses import dataclass, field\n",
    "from typing import ClassVar\n",
    "@dataclass\n",
    "class ClubMember:\n",
    "    name: str # instance attr\n",
    "    guests: list[str] = field(default_factory=list) # instance attr\n",
    "    # Using default makes it class attr. Using default_factory makes it instance attr!!\n",
    "    athlete: bool = field(default=False, repr=False) # class/instance attr?\n",
    "    all_handles = set() # class attr?\n",
    "    class_var: ClassVar[str] = \"classvariable?\" # class attr?\n",
    "\n",
    "cl1 = ClubMember(\"bob\", [\"guest\"], True)\n",
    "print(cl1, cl1.__dict__) #set(dir(cl1))), instance attrs\n",
    "\n",
    "instOnlyAttrs = set(dir(cl1)) - set(dir(ClubMember))\n",
    "print(\"Instance attrs:\", instOnlyAttrs )\n",
    "print(\"Class attrs:\", [item for item in list(set(dir(ClubMember)) - instOnlyAttrs)\n",
    "    if not item.startswith(\"_\")] )\n",
    "print(\"Athlete in ClubMember??\", 'athlete' in dir(ClubMember))"
   ]
  },
  {
   "cell_type": "markdown",
   "metadata": {},
   "source": [
    "One of two places where dataclass() actually inspects the type of a field is to determine if a field is a class variable as defined in PEP 526. It does this by checking if the type of the field is typing.ClassVar. If a field is a ClassVar, it is excluded from consideration as a field and is ignored by the dataclass mechanisms. Such ClassVar pseudo-fields are not returned by the module-level fields() function."
   ]
  }
 ],
 "metadata": {
  "interpreter": {
   "hash": "a42ccb73e7d9bfdf27e036f1d2b8b681e55fc0743cc5586bc2474d4a60f4b886"
  },
  "kernelspec": {
   "display_name": "Python 3.10.4 64-bit",
   "language": "python",
   "name": "python3"
  },
  "language_info": {
   "codemirror_mode": {
    "name": "ipython",
    "version": 3
   },
   "file_extension": ".py",
   "mimetype": "text/x-python",
   "name": "python",
   "nbconvert_exporter": "python",
   "pygments_lexer": "ipython3",
   "version": "3.10.4"
  },
  "orig_nbformat": 4
 },
 "nbformat": 4,
 "nbformat_minor": 2
}
