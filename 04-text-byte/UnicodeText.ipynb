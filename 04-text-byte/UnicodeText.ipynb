{
 "cells": [
  {
   "cell_type": "code",
   "execution_count": 2,
   "metadata": {},
   "outputs": [
    {
     "name": "stdout",
     "output_type": "stream",
     "text": [
      "('en_US', 'cp1252')\n",
      "pt_BR.UTF-8\n"
     ]
    }
   ],
   "source": [
    "import locale\n",
    "\n",
    "my_loc = locale.setlocale(locale.LC_COLLATE, 'pt_BR.UTF-8')\n",
    "\n",
    "print(locale.getdefaultlocale() )\n",
    "print(my_loc)"
   ]
  },
  {
   "cell_type": "code",
   "execution_count": 7,
   "metadata": {},
   "outputs": [
    {
     "data": {
      "text/plain": [
       "'LATIN CAPITAL LETTER A'"
      ]
     },
     "execution_count": 7,
     "metadata": {},
     "output_type": "execute_result"
    }
   ],
   "source": [
    "from unicodedata import name\n",
    "\n",
    "name('A')"
   ]
  },
  {
   "cell_type": "code",
   "execution_count": 9,
   "metadata": {},
   "outputs": [
    {
     "name": "stdout",
     "output_type": "stream",
     "text": [
      "café 5\n"
     ]
    },
    {
     "data": {
      "text/plain": [
       "('café', 4)"
      ]
     },
     "execution_count": 9,
     "metadata": {},
     "output_type": "execute_result"
    }
   ],
   "source": [
    "from unicodedata import normalize\n",
    "\n",
    "cafe = 'cafe\\N{COMBINING ACUTE ACCENT}'\n",
    "print(cafe, len(cafe))\n",
    "\n",
    "# NFC creates shortest equivalent string\n",
    "ncafe = normalize('NFC', cafe)\n",
    "ncafe, len(ncafe)"
   ]
  },
  {
   "cell_type": "code",
   "execution_count": 11,
   "metadata": {},
   "outputs": [
    {
     "name": "stdout",
     "output_type": "stream",
     "text": [
      "Ω OHM SIGN\n",
      "Ω False\n"
     ]
    }
   ],
   "source": [
    "from unicodedata import normalize, name\n",
    "ohm = '\\u2126'\n",
    "print(ohm, name(ohm) )\n",
    "\n",
    "ohm_c = normalize('NFC', ohm)\n",
    "print(ohm_c, ohm==ohm_c)"
   ]
  },
  {
   "cell_type": "code",
   "execution_count": 20,
   "metadata": {},
   "outputs": [
    {
     "name": "stdout",
     "output_type": "stream",
     "text": [
      "♛\n",
      "♕\n",
      "½ VULGAR FRACTION ONE HALF\n"
     ]
    }
   ],
   "source": [
    "print(\"\\N{BLACK CHESS QUEEN}\")\n",
    "print(\"\\N{WHITE CHESS QUEEN}\")\n",
    "\n",
    "# SyntaxError: (unicode error) 'unicodeescape' codec can't decode bytes in position 0-29: unknown Unicode character name\n",
    "# print(\"\\N{CAT FACE WITH SMILING EYES}\")\n",
    "\n",
    "HALF = \"\\N{VULGAR FRACTION ONE HALF}\"\n",
    "print( HALF, name(HALF))"
   ]
  }
 ],
 "metadata": {
  "interpreter": {
   "hash": "a42ccb73e7d9bfdf27e036f1d2b8b681e55fc0743cc5586bc2474d4a60f4b886"
  },
  "kernelspec": {
   "display_name": "Python 3.10.4 64-bit",
   "language": "python",
   "name": "python3"
  },
  "language_info": {
   "codemirror_mode": {
    "name": "ipython",
    "version": 3
   },
   "file_extension": ".py",
   "mimetype": "text/x-python",
   "name": "python",
   "nbconvert_exporter": "python",
   "pygments_lexer": "ipython3",
   "version": "3.10.4"
  },
  "orig_nbformat": 4
 },
 "nbformat": 4,
 "nbformat_minor": 2
}
